{
 "cells": [
  {
   "cell_type": "code",
   "execution_count": 15,
   "metadata": {},
   "outputs": [
    {
     "name": "stdout",
     "output_type": "stream",
     "text": [
      "Enter a prime number (23,19,17 etc): 17\n",
      "Enter different prime number: 61\n",
      "Process of Generating public/private keypairs starts \n",
      "public key ::  (167, 1037)\n",
      "private key ::  (23, 1037)\n"
     ]
    }
   ],
   "source": [
    "#KEY GENERATION::\n",
    "\n",
    "import random\n",
    "from hashlib import sha256\n",
    "\n",
    "p = int(input(\"Enter a prime number (23,19,17 etc): \"))\n",
    "q = int(input(\"Enter different prime number: \")) \n",
    "\n",
    "#for example we can take 17 and 61 as prime numbers\n",
    "    #p = 17\n",
    "    #q= 61\n",
    "\n",
    "    \n",
    "# gives the extended greatest common divisor of the integers\n",
    "# which computes, besides the greatest common divisor of integers a and b, \n",
    "# the coefficients of Bezout’s identity\n",
    "def extended_gcd(aa, bb):\n",
    "    lastremainder, remainder = abs(aa), abs(bb)\n",
    "    x, lastx, y, lasty = 0, 1, 1, 0\n",
    "    while remainder:\n",
    "        lastremainder, (quotient, remainder) = remainder, divmod(lastremainder, remainder)\n",
    "        x, lastx = lastx - quotient*x, x\n",
    "        y, lasty = lasty - quotient*y, y\n",
    "    return lastremainder, lastx * (-1 if aa < 0 else 1), lasty * (-1 if bb < 0 else 1)\n",
    "\n",
    "#Euclid's extended algorithm for finding the multiplicative inverse of two numbers \n",
    "# Its is use to gererate generate the private key in rsa algorithm\n",
    "def modinv(a, m):\n",
    "\tg, x, y = extended_gcd(a, m)\n",
    "\tif g != 1:\n",
    "\t\traise Exception('Modular inverse does not exist')\n",
    "\treturn x % m    \n",
    "\n",
    "\n",
    "#Check if the num is prime or not\n",
    "def is_prime(num):\n",
    "    if num == 2:\n",
    "        return True\n",
    "    if num < 2 or num % 2 == 0:\n",
    "        return False\n",
    "    for n in range(3, int(num**0.5)+2, 2):\n",
    "        if num % n == 0:\n",
    "            return False\n",
    "    return True\n",
    "\n",
    "\n",
    "# Euclid's Algorithm to verify that two number is coprime wrt each other \n",
    "\n",
    "def coprime(a, b):\n",
    "    while b != 0:\n",
    "        a, b = b, a % b\n",
    "    return a\n",
    "    \n",
    "#generate key pair using RSA algorithm\n",
    "def generate_keypair(p, q):\n",
    "    if not (is_prime(p) and is_prime(q)):\n",
    "        raise ValueError('Both numbers must be prime.')\n",
    "    elif p == q:\n",
    "        raise ValueError('p and q cannot be equal')\n",
    "\n",
    "    #we need to generate the value of n using the prime numbers that we have choosen\n",
    "    n = p * q\n",
    "\n",
    "    #then calculate the value of Phi that is the totient of n\n",
    "    phi = (p-1) * (q-1)\n",
    "\n",
    "    #NOw We need to Choose an integer e such that e and phi(n) are coprime\n",
    "    e = random.randrange(1, phi)\n",
    "\n",
    "    #we Use Euclid's Algorithm to verify that e and phi(n) are comprime \n",
    "    g = coprime(e, phi)\n",
    "  \n",
    "    while g != 1:\n",
    "        e = random.randrange(1, phi)\n",
    "        g = coprime(e, phi)\n",
    "\n",
    "    #Use Extended Euclid's Algorithm to generate the private key\n",
    "    d = modinv(e, phi)\n",
    "\n",
    "    #Return public and private keypair\n",
    "    #Public key is (e, n) and private key is (d, n)\n",
    "    return ((e, n), (d, n))\n",
    "    \n",
    "print(\"Process of Generating public/private keypairs starts \")\n",
    "public, private = generate_keypair(p, q)\n",
    "    \n",
    "print(\"public key :: \", public)\n",
    "print(\"private key :: \", private)"
   ]
  },
  {
   "cell_type": "code",
   "execution_count": 16,
   "metadata": {},
   "outputs": [
    {
     "name": "stdout",
     "output_type": "stream",
     "text": [
      "Enter a message to encrypt with private key: this is message\n",
      "\n",
      "Encrypting message with private key  (23, 1037)  . . .\n",
      "Number representation before encryption:  [53, 54, 57, 99, 56, 54, 56, 101, 50, 48, 100, 57, 98, 101, 56, 98, 97, 50, 56, 102, 98, 53, 53, 56, 100, 102, 56, 56, 57, 51, 98, 54, 48, 97, 101, 102, 98, 99, 50, 99, 48, 57, 98, 56, 54, 49, 53, 56, 100, 57, 52, 50, 53, 53, 52, 57, 54, 50, 98, 57, 49, 101, 50, 101]\n",
      "Encrypted hashed message:: \n",
      "281776388100946977646988356038011038863388346963343256046935763328128146911035746946938896963377638043288335763310095601009380388633469776960281469110388613560281281613388776560633388960883560883\n",
      "\n"
     ]
    }
   ],
   "source": [
    "# ENCRYPTION\n",
    "\n",
    "# outputs a 256 bits long hash value.\n",
    "def hashFunction(message):\n",
    "    hashed = sha256(message.encode(\"UTF-8\")).hexdigest()\n",
    "    return hashed\n",
    "\n",
    "\n",
    "def encrypt(privatek, plaintext):\n",
    "    #privatek key is Unpacked into it's components\n",
    "    key, n = privatek\n",
    "\n",
    "    #based on the character using a^b mod m, we convert each letter in the plaintext to numbers  \n",
    "    numberRepr = [ord(char) for char in plaintext]\n",
    "    print(\"Number representation before encryption: \", numberRepr)\n",
    "    cipher = [pow(ord(char),key,n) for char in plaintext]\n",
    "    \n",
    "    #array of bytes is Returned\n",
    "    return cipher\n",
    "\n",
    "#message is encrypted using private key of sender\n",
    "message = input(\"Enter a message to encrypt with private key: \")\n",
    "    \n",
    "print(\"\")\n",
    "\n",
    "hashed = hashFunction(message)\n",
    "    \n",
    "print(\"Encrypting message with private key \", private ,\" . . .\")\n",
    "    \n",
    "encrypted_msg = encrypt(private, hashed)   \n",
    "    \n",
    "print(\"Encrypted hashed message:: \")\n",
    "print(''.join(map(lambda x: str(x), encrypted_msg)))\n",
    "#print(encrypted_msg)\n",
    "    \n",
    "print(\"\")"
   ]
  },
  {
   "cell_type": "code",
   "execution_count": 17,
   "metadata": {},
   "outputs": [
    {
     "name": "stdout",
     "output_type": "stream",
     "text": [
      "Decrypting message with public key  (167, 1037)  . . .\n",
      "Decrypted number representation is:  [53, 54, 57, 99, 56, 54, 56, 101, 50, 48, 100, 57, 98, 101, 56, 98, 97, 50, 56, 102, 98, 53, 53, 56, 100, 102, 56, 56, 57, 51, 98, 54, 48, 97, 101, 102, 98, 99, 50, 99, 48, 57, 98, 56, 54, 49, 53, 56, 100, 57, 52, 50, 53, 53, 52, 57, 54, 50, 98, 57, 49, 101, 50, 101]\n",
      "Decrypted message::\n",
      "569c868e20d9be8ba28fb558df8893b60aefbc2c09b86158d942554962b91e2e\n"
     ]
    }
   ],
   "source": [
    "#DECRYPTION\n",
    "\n",
    "def decrypt(publick, ciphertext):\n",
    "    #publick key is Unpacked into it's components\n",
    "    key, n = publick\n",
    "       \n",
    "    #based on the ciphertext and key using a^b mod m, Generate the plaintext \n",
    "    numberRepr = [pow(char, key, n) for char in ciphertext]\n",
    "    plain = [chr(pow(char, key, n)) for char in ciphertext]\n",
    "\n",
    "    print(\"Decrypted number representation is: \", numberRepr)\n",
    "    \n",
    "    #array of bytes is Returned as a string\n",
    "    return ''.join(plain)\n",
    "\n",
    "print(\"Decrypting message with public key \", public ,\" . . .\")\n",
    "\n",
    "decrypted_msg = decrypt(public, encrypted_msg)\n",
    "print(\"Decrypted message::\")  \n",
    "print(decrypted_msg)"
   ]
  },
  {
   "cell_type": "code",
   "execution_count": 18,
   "metadata": {},
   "outputs": [
    {
     "name": "stdout",
     "output_type": "stream",
     "text": [
      "Verification process::\n",
      "Verification status:: successful: \n",
      "569c868e20d9be8ba28fb558df8893b60aefbc2c09b86158d942554962b91e2e  =  569c868e20d9be8ba28fb558df8893b60aefbc2c09b86158d942554962b91e2e\n"
     ]
    }
   ],
   "source": [
    "#VERIFICATION\n",
    "\n",
    "#verification process of received hashed value and message\n",
    "def verify(receivedHashed, message):\n",
    "    ourHashed = hashFunction(message)\n",
    "    if receivedHashed == ourHashed:\n",
    "        print(\"Verification status:: successful: \", )\n",
    "        print(receivedHashed, \" = \", ourHashed)\n",
    "    else:\n",
    "        print(\"Verification status:: failed\")\n",
    "        print(receivedHashed, \" != \", ourHashed)\n",
    "        \n",
    "print(\"Verification process::\")\n",
    "verify(decrypted_msg, message)"
   ]
  },
  {
   "cell_type": "code",
   "execution_count": null,
   "metadata": {},
   "outputs": [],
   "source": []
  }
 ],
 "metadata": {
  "kernelspec": {
   "display_name": "Python 3",
   "language": "python",
   "name": "python3"
  },
  "language_info": {
   "codemirror_mode": {
    "name": "ipython",
    "version": 3
   },
   "file_extension": ".py",
   "mimetype": "text/x-python",
   "name": "python",
   "nbconvert_exporter": "python",
   "pygments_lexer": "ipython3",
   "version": "3.8.5"
  }
 },
 "nbformat": 4,
 "nbformat_minor": 4
}
